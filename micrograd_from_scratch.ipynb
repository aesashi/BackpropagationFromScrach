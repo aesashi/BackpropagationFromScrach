{
 "cells": [
  {
   "cell_type": "code",
   "execution_count": 1,
   "id": "81af904d",
   "metadata": {},
   "outputs": [],
   "source": [
    "import math\n",
    "import numpy as np\n",
    "import matplotlib.pyplot as plt\n",
    "%matplotlib inline"
   ]
  },
  {
   "cell_type": "raw",
   "id": "fd9df38d",
   "metadata": {},
   "source": [
    "Understanding of Declivative"
   ]
  },
  {
   "cell_type": "code",
   "execution_count": 2,
   "id": "4b11d267",
   "metadata": {},
   "outputs": [],
   "source": [
    "def f(x): #Rrandom quadratic palabola equation\n",
    "    return 3*x**2 - 4*x + 5"
   ]
  },
  {
   "cell_type": "code",
   "execution_count": 3,
   "id": "d02ed59f",
   "metadata": {},
   "outputs": [
    {
     "data": {
      "text/plain": [
       "20.0"
      ]
     },
     "execution_count": 3,
     "metadata": {},
     "output_type": "execute_result"
    }
   ],
   "source": [
    "f(3.0)"
   ]
  },
  {
   "cell_type": "code",
   "execution_count": 6,
   "id": "8b59a3d6",
   "metadata": {},
   "outputs": [
    {
     "data": {
      "text/plain": [
       "[<matplotlib.lines.Line2D at 0x7f85a2d5a730>]"
      ]
     },
     "execution_count": 6,
     "metadata": {},
     "output_type": "execute_result"
    },
    {
     "data": {
      "image/png": "[encoded data removed]",
      "text/plain": [
       "<Figure size 432x288 with 1 Axes>"
      ]
     },
     "metadata": {
      "needs_background": "light"
     },
     "output_type": "display_data"
    }
   ],
   "source": [
    "xs = np.arange(-5, 5, 0.25)\n",
    "ys = f(xs)\n",
    "plt.plot(ys)"
   ]
  },
  {
   "cell_type": "code",
   "execution_count": 17,
   "id": "5c0b2628",
   "metadata": {},
   "outputs": [
    {
     "data": {
      "text/plain": [
       "0.0"
      ]
     },
     "execution_count": 17,
     "metadata": {},
     "output_type": "execute_result"
    }
   ],
   "source": [
    "h = 0.0000000001 #the step size for normalization\n",
    "x = 2/3 #x = 2/3 will be derivative of 0\n",
    "(f(x+h)-f(x))/h"
   ]
  },
  {
   "cell_type": "markdown",
   "id": "5dc28c23",
   "metadata": {},
   "source": [
    "Some complex example "
   ]
  },
  {
   "cell_type": "code",
   "execution_count": 18,
   "id": "24ffaca9",
   "metadata": {},
   "outputs": [
    {
     "name": "stdout",
     "output_type": "stream",
     "text": [
      "4.0\n"
     ]
    }
   ],
   "source": [
    "#let get more complex\n",
    "a = 2.0\n",
    "b = -3.0\n",
    "c = 10.0\n",
    "d = a*b+c\n",
    "print(d)"
   ]
  },
  {
   "cell_type": "code",
   "execution_count": 30,
   "id": "8990be52",
   "metadata": {},
   "outputs": [
    {
     "name": "stdout",
     "output_type": "stream",
     "text": [
      "d1 4.0\n",
      "d2 4.0002\n",
      "slope 2.0000000000042206\n"
     ]
    }
   ],
   "source": [
    "h = 0.0001\n",
    "\n",
    "#inputs \n",
    "a = 2.0\n",
    "b = -3.0\n",
    "c = 10.0\n",
    "\n",
    "# k = a * (-3)\n",
    "# l = a * (-3+.001)\n",
    "\n",
    "d1 = a*b + c\n",
    "b += h\n",
    "d2 = a*b +c\n",
    "# print(k+10, l+10)\n",
    "print('d1', d1)\n",
    "print('d2', d2)\n",
    "print('slope', (d2-d1)/h)\n"
   ]
  },
  {
   "cell_type": "code",
   "execution_count": 64,
   "id": "b915521f",
   "metadata": {},
   "outputs": [],
   "source": [
    "from graphviz import Digraph\n",
    "\n",
    "def trace(root):\n",
    "    #building a set of all nodes and edges in a graph\n",
    "    nodes, edges = set(), set()\n",
    "    def build(v):\n",
    "        if v not in nodes:\n",
    "            nodes.add(v)\n",
    "            for child in v._prev:\n",
    "                edges.add((child, v))\n",
    "                build(child)\n",
    "    build(root)\n",
    "    return nodes, edges\n",
    "\n",
    "def draw_dot(root):\n",
    "    dot = Digraph(format='svg', graph_attr={'rankdir': 'LR'}) #LR = left to right\n",
    "    \n",
    "    nodes, edges = trace(root)\n",
    "    for n in nodes:\n",
    "        uid = str(id(n))\n",
    "        #for any value in the graphm create a rectangular (;record;) node for it\n",
    "        dot.node(name = uid, label = \"{ %s | data %.4f | grad %.4f }\"% (n.label, n.data, n.grad ), shape='record')\n",
    "        if n._op:\n",
    "            #if this value is a result of some operation, create an op node for it\n",
    "            dot.node(name = uid + n._op, label=n._op)\n",
    "            #and connect ths node to it\n",
    "            dot.edge(uid + n._op, uid)\n",
    "            \n",
    "    for n1, n2 in edges:\n",
    "        #connect n1 to the op node of n2\n",
    "        dot.edge(str(id(n1)), str(id(n2)) + n2._op)\n",
    "        \n",
    "    return dot"
   ]
  },
  {
   "cell_type": "code",
   "execution_count": 69,
   "id": "82859053",
   "metadata": {},
   "outputs": [
    {
     "data": {
      "text/plain": [
       "Value(data=-8.0)"
      ]
     },
     "execution_count": 69,
     "metadata": {},
     "output_type": "execute_result"
    }
   ],
   "source": [
    "class Value:\n",
    "    def __init__(self, data, _children=(), _op='', label=''):\n",
    "        self.data = data\n",
    "        self.grad = 0.0\n",
    "        self._prev = set(_children)\n",
    "        self._op = _op\n",
    "        self.label = label\n",
    "        \n",
    "    #It provide nicer explassion in python by string \n",
    "    def __repr__(self):\n",
    "        return f\"Value(data={self.data})\"\n",
    "    \n",
    "    def __add__(self, other):\n",
    "        out = Value(self.data + other.data, (self, other), '+')\n",
    "        return out\n",
    "    \n",
    "    def __mul__(self, other):\n",
    "        out = Value(self.data * other.data, (self, other), '*')\n",
    "        return out\n",
    "    \n",
    "a = Value(2.0, label='a')\n",
    "b = Value(-3.0, label='b')\n",
    "c = Value(10.0, label='c')\n",
    "e = a * b; e.label = 'e'\n",
    "d = e + c; d.label = 'd'\n",
    "f = Value(-2.0, label='f')\n",
    "L = d*f; L.label='L'\n",
    "L"
   ]
  },
  {
   "cell_type": "code",
   "execution_count": 88,
   "id": "e2ecb5ac",
   "metadata": {},
   "outputs": [
    {
     "data": {
      "image/svg+xml": [
       "<?xml version=\"1.0\" encoding=\"UTF-8\" standalone=\"no\"?>\n",
       "<!DOCTYPE svg PUBLIC \"-//W3C//DTD SVG 1.1//EN\"\n",
       " \"http://www.w3.org/Graphics/SVG/1.1/DTD/svg11.dtd\">\n",
       "<!-- Generated by graphviz version 8.0.2 (20230410.1723)\n",
       " -->\n",
       "<!-- Pages: 1 -->\n",
       "<svg width=\"1160pt\" height=\"156pt\"\n",
       " viewBox=\"0.00 0.00 1160.00 156.00\" xmlns=\"http://www.w3.org/2000/svg\" xmlns:xlink=\"http://www.w3.org/1999/xlink\">\n",
       "<g id=\"graph0\" class=\"graph\" transform=\"scale(1 1) rotate(0) translate(4 152)\">\n",
       "<polygon fill=\"white\" stroke=\"none\" points=\"-4,4 -4,-152 1156,-152 1156,4 -4,4\"/>\n",
       "<!-- 140434371679232 -->\n",
       "<g id=\"node1\" class=\"node\">\n",
       "<title>140434371679232</title>\n",
       "<polygon fill=\"none\" stroke=\"black\" points=\"4.5,-111.5 4.5,-147.5 189.5,-147.5 189.5,-111.5 4.5,-111.5\"/>\n",
       "<text text-anchor=\"middle\" x=\"16\" y=\"-125.8\" font-family=\"Times,serif\" font-size=\"14.00\">a</text>\n",
       "<polyline fill=\"none\" stroke=\"black\" points=\"27.5,-111.5 27.5,-147.5\"/>\n",
       "<text text-anchor=\"middle\" x=\"67.5\" y=\"-125.8\" font-family=\"Times,serif\" font-size=\"14.00\">data 2.0000</text>\n",
       "<polyline fill=\"none\" stroke=\"black\" points=\"107.5,-111.5 107.5,-147.5\"/>\n",
       "<text text-anchor=\"middle\" x=\"148.5\" y=\"-125.8\" font-family=\"Times,serif\" font-size=\"14.00\">grad 6.0000</text>\n",
       "</g>\n",
       "<!-- 140434371680672* -->\n",
       "<g id=\"node9\" class=\"node\">\n",
       "<title>140434371680672*</title>\n",
       "<ellipse fill=\"none\" stroke=\"black\" cx=\"257\" cy=\"-101.5\" rx=\"27\" ry=\"18\"/>\n",
       "<text text-anchor=\"middle\" x=\"257\" y=\"-97.8\" font-family=\"Times,serif\" font-size=\"14.00\">*</text>\n",
       "</g>\n",
       "<!-- 140434371679232&#45;&gt;140434371680672* -->\n",
       "<g id=\"edge8\" class=\"edge\">\n",
       "<title>140434371679232&#45;&gt;140434371680672*</title>\n",
       "<path fill=\"none\" stroke=\"black\" d=\"M189.45,-113.29C200.13,-111.4 210.49,-109.57 219.73,-107.93\"/>\n",
       "<polygon fill=\"black\" stroke=\"black\" points=\"220.17,-111.23 229.4,-106.04 218.95,-104.33 220.17,-111.23\"/>\n",
       "</g>\n",
       "<!-- 140434381586976 -->\n",
       "<g id=\"node2\" class=\"node\">\n",
       "<title>140434381586976</title>\n",
       "<polygon fill=\"none\" stroke=\"black\" points=\"645.5,-55.5 645.5,-91.5 830.5,-91.5 830.5,-55.5 645.5,-55.5\"/>\n",
       "<text text-anchor=\"middle\" x=\"657\" y=\"-69.8\" font-family=\"Times,serif\" font-size=\"14.00\">d</text>\n",
       "<polyline fill=\"none\" stroke=\"black\" points=\"668.5,-55.5 668.5,-91.5\"/>\n",
       "<text text-anchor=\"middle\" x=\"708.5\" y=\"-69.8\" font-family=\"Times,serif\" font-size=\"14.00\">data 4.0000</text>\n",
       "<polyline fill=\"none\" stroke=\"black\" points=\"748.5,-55.5 748.5,-91.5\"/>\n",
       "<text text-anchor=\"middle\" x=\"789.5\" y=\"-69.8\" font-family=\"Times,serif\" font-size=\"14.00\">grad 4.0000</text>\n",
       "</g>\n",
       "<!-- 140434381586784* -->\n",
       "<g id=\"node7\" class=\"node\">\n",
       "<title>140434381586784*</title>\n",
       "<ellipse fill=\"none\" stroke=\"black\" cx=\"897\" cy=\"-45.5\" rx=\"27\" ry=\"18\"/>\n",
       "<text text-anchor=\"middle\" x=\"897\" y=\"-41.8\" font-family=\"Times,serif\" font-size=\"14.00\">*</text>\n",
       "</g>\n",
       "<!-- 140434381586976&#45;&gt;140434381586784* -->\n",
       "<g id=\"edge4\" class=\"edge\">\n",
       "<title>140434381586976&#45;&gt;140434381586784*</title>\n",
       "<path fill=\"none\" stroke=\"black\" d=\"M830.33,-57.21C840.67,-55.37 850.7,-53.58 859.69,-51.98\"/>\n",
       "<polygon fill=\"black\" stroke=\"black\" points=\"860.22,-55.26 869.45,-50.06 858.99,-48.37 860.22,-55.26\"/>\n",
       "</g>\n",
       "<!-- 140434381586976+ -->\n",
       "<g id=\"node3\" class=\"node\">\n",
       "<title>140434381586976+</title>\n",
       "<ellipse fill=\"none\" stroke=\"black\" cx=\"579\" cy=\"-73.5\" rx=\"27\" ry=\"18\"/>\n",
       "<text text-anchor=\"middle\" x=\"579\" y=\"-69.8\" font-family=\"Times,serif\" font-size=\"14.00\">+</text>\n",
       "</g>\n",
       "<!-- 140434381586976+&#45;&gt;140434381586976 -->\n",
       "<g id=\"edge1\" class=\"edge\">\n",
       "<title>140434381586976+&#45;&gt;140434381586976</title>\n",
       "<path fill=\"none\" stroke=\"black\" d=\"M606.28,-73.5C614.57,-73.5 624.29,-73.5 634.61,-73.5\"/>\n",
       "<polygon fill=\"black\" stroke=\"black\" points=\"634.56,-77 644.56,-73.5 634.56,-70 634.56,-77\"/>\n",
       "</g>\n",
       "<!-- 140434381587552 -->\n",
       "<g id=\"node4\" class=\"node\">\n",
       "<title>140434381587552</title>\n",
       "<polygon fill=\"none\" stroke=\"black\" points=\"642,-0.5 642,-36.5 834,-36.5 834,-0.5 642,-0.5\"/>\n",
       "<text text-anchor=\"middle\" x=\"652.5\" y=\"-14.8\" font-family=\"Times,serif\" font-size=\"14.00\">f</text>\n",
       "<polyline fill=\"none\" stroke=\"black\" points=\"663,-0.5 663,-36.5\"/>\n",
       "<text text-anchor=\"middle\" x=\"705.5\" y=\"-14.8\" font-family=\"Times,serif\" font-size=\"14.00\">data &#45;2.0000</text>\n",
       "<polyline fill=\"none\" stroke=\"black\" points=\"748,-0.5 748,-36.5\"/>\n",
       "<text text-anchor=\"middle\" x=\"791\" y=\"-14.8\" font-family=\"Times,serif\" font-size=\"14.00\">grad &#45;2.0000</text>\n",
       "</g>\n",
       "<!-- 140434381587552&#45;&gt;140434381586784* -->\n",
       "<g id=\"edge5\" class=\"edge\">\n",
       "<title>140434381587552&#45;&gt;140434381586784*</title>\n",
       "<path fill=\"none\" stroke=\"black\" d=\"M833.95,-34.83C843.08,-36.4 851.9,-37.92 859.88,-39.29\"/>\n",
       "<polygon fill=\"black\" stroke=\"black\" points=\"859.11,-42.88 869.56,-41.12 860.29,-35.98 859.11,-42.88\"/>\n",
       "</g>\n",
       "<!-- 140434371679424 -->\n",
       "<g id=\"node5\" class=\"node\">\n",
       "<title>140434371679424</title>\n",
       "<polygon fill=\"none\" stroke=\"black\" points=\"320,-28.5 320,-64.5 516,-64.5 516,-28.5 320,-28.5\"/>\n",
       "<text text-anchor=\"middle\" x=\"331.5\" y=\"-42.8\" font-family=\"Times,serif\" font-size=\"14.00\">c</text>\n",
       "<polyline fill=\"none\" stroke=\"black\" points=\"343,-28.5 343,-64.5\"/>\n",
       "<text text-anchor=\"middle\" x=\"386.5\" y=\"-42.8\" font-family=\"Times,serif\" font-size=\"14.00\">data 10.0000</text>\n",
       "<polyline fill=\"none\" stroke=\"black\" points=\"430,-28.5 430,-64.5\"/>\n",
       "<text text-anchor=\"middle\" x=\"473\" y=\"-42.8\" font-family=\"Times,serif\" font-size=\"14.00\">grad &#45;2.0000</text>\n",
       "</g>\n",
       "<!-- 140434371679424&#45;&gt;140434381586976+ -->\n",
       "<g id=\"edge6\" class=\"edge\">\n",
       "<title>140434371679424&#45;&gt;140434381586976+</title>\n",
       "<path fill=\"none\" stroke=\"black\" d=\"M515.62,-62.91C524.81,-64.47 533.68,-65.97 541.71,-67.34\"/>\n",
       "<polygon fill=\"black\" stroke=\"black\" points=\"541,-70.94 551.44,-69.16 542.17,-64.04 541,-70.94\"/>\n",
       "</g>\n",
       "<!-- 140434381586784 -->\n",
       "<g id=\"node6\" class=\"node\">\n",
       "<title>140434381586784</title>\n",
       "<polygon fill=\"none\" stroke=\"black\" points=\"960,-27.5 960,-63.5 1152,-63.5 1152,-27.5 960,-27.5\"/>\n",
       "<text text-anchor=\"middle\" x=\"972.5\" y=\"-41.8\" font-family=\"Times,serif\" font-size=\"14.00\">L</text>\n",
       "<polyline fill=\"none\" stroke=\"black\" points=\"985,-27.5 985,-63.5\"/>\n",
       "<text text-anchor=\"middle\" x=\"1027.5\" y=\"-41.8\" font-family=\"Times,serif\" font-size=\"14.00\">data &#45;8.0000</text>\n",
       "<polyline fill=\"none\" stroke=\"black\" points=\"1070,-27.5 1070,-63.5\"/>\n",
       "<text text-anchor=\"middle\" x=\"1111\" y=\"-41.8\" font-family=\"Times,serif\" font-size=\"14.00\">grad 1.0000</text>\n",
       "</g>\n",
       "<!-- 140434381586784*&#45;&gt;140434381586784 -->\n",
       "<g id=\"edge2\" class=\"edge\">\n",
       "<title>140434381586784*&#45;&gt;140434381586784</title>\n",
       "<path fill=\"none\" stroke=\"black\" d=\"M924.28,-45.5C931.68,-45.5 940.22,-45.5 949.31,-45.5\"/>\n",
       "<polygon fill=\"black\" stroke=\"black\" points=\"949.21,-49 959.21,-45.5 949.21,-42 949.21,-49\"/>\n",
       "</g>\n",
       "<!-- 140434371680672 -->\n",
       "<g id=\"node8\" class=\"node\">\n",
       "<title>140434371680672</title>\n",
       "<polygon fill=\"none\" stroke=\"black\" points=\"321,-83.5 321,-119.5 515,-119.5 515,-83.5 321,-83.5\"/>\n",
       "<text text-anchor=\"middle\" x=\"332.5\" y=\"-97.8\" font-family=\"Times,serif\" font-size=\"14.00\">e</text>\n",
       "<polyline fill=\"none\" stroke=\"black\" points=\"344,-83.5 344,-119.5\"/>\n",
       "<text text-anchor=\"middle\" x=\"386.5\" y=\"-97.8\" font-family=\"Times,serif\" font-size=\"14.00\">data &#45;6.0000</text>\n",
       "<polyline fill=\"none\" stroke=\"black\" points=\"429,-83.5 429,-119.5\"/>\n",
       "<text text-anchor=\"middle\" x=\"472\" y=\"-97.8\" font-family=\"Times,serif\" font-size=\"14.00\">grad &#45;2.0000</text>\n",
       "</g>\n",
       "<!-- 140434371680672&#45;&gt;140434381586976+ -->\n",
       "<g id=\"edge7\" class=\"edge\">\n",
       "<title>140434371680672&#45;&gt;140434381586976+</title>\n",
       "<path fill=\"none\" stroke=\"black\" d=\"M514.7,-84.65C524.29,-82.96 533.55,-81.33 541.89,-79.86\"/>\n",
       "<polygon fill=\"black\" stroke=\"black\" points=\"542.39,-83.15 551.63,-77.97 541.18,-76.25 542.39,-83.15\"/>\n",
       "</g>\n",
       "<!-- 140434371680672*&#45;&gt;140434371680672 -->\n",
       "<g id=\"edge3\" class=\"edge\">\n",
       "<title>140434371680672*&#45;&gt;140434371680672</title>\n",
       "<path fill=\"none\" stroke=\"black\" d=\"M284.26,-101.5C291.95,-101.5 300.87,-101.5 310.38,-101.5\"/>\n",
       "<polygon fill=\"black\" stroke=\"black\" points=\"310.33,-105 320.33,-101.5 310.33,-98 310.33,-105\"/>\n",
       "</g>\n",
       "<!-- 140434371678656 -->\n",
       "<g id=\"node10\" class=\"node\">\n",
       "<title>140434371678656</title>\n",
       "<polygon fill=\"none\" stroke=\"black\" points=\"0,-56.5 0,-92.5 194,-92.5 194,-56.5 0,-56.5\"/>\n",
       "<text text-anchor=\"middle\" x=\"11.5\" y=\"-70.8\" font-family=\"Times,serif\" font-size=\"14.00\">b</text>\n",
       "<polyline fill=\"none\" stroke=\"black\" points=\"23,-56.5 23,-92.5\"/>\n",
       "<text text-anchor=\"middle\" x=\"65.5\" y=\"-70.8\" font-family=\"Times,serif\" font-size=\"14.00\">data &#45;3.0000</text>\n",
       "<polyline fill=\"none\" stroke=\"black\" points=\"108,-56.5 108,-92.5\"/>\n",
       "<text text-anchor=\"middle\" x=\"151\" y=\"-70.8\" font-family=\"Times,serif\" font-size=\"14.00\">grad &#45;4.0000</text>\n",
       "</g>\n",
       "<!-- 140434371678656&#45;&gt;140434371680672* -->\n",
       "<g id=\"edge9\" class=\"edge\">\n",
       "<title>140434371678656&#45;&gt;140434371680672*</title>\n",
       "<path fill=\"none\" stroke=\"black\" d=\"M193.55,-90.83C202.74,-92.4 211.62,-93.92 219.65,-95.29\"/>\n",
       "<polygon fill=\"black\" stroke=\"black\" points=\"218.95,-98.89 229.39,-97.12 220.13,-91.99 218.95,-98.89\"/>\n",
       "</g>\n",
       "</g>\n",
       "</svg>\n"
      ],
      "text/plain": [
       "<graphviz.graphs.Digraph at 0x7fb96d753d00>"
      ]
     },
     "execution_count": 88,
     "metadata": {},
     "output_type": "execute_result"
    }
   ],
   "source": [
    "draw_dot(L)"
   ]
  },
  {
   "cell_type": "code",
   "execution_count": null,
   "id": "2c7aba0c",
   "metadata": {},
   "outputs": [],
   "source": [
    "dd/dc = 1.0\n",
    "dd/de = 1.0\n",
    "d = c + e\n",
    "\n",
    "WANT:\n",
    "dL/dc = ((dL/dd) * (dd/dc))\n",
    "\n",
    "KNOW:\n",
    "dL/dd\n",
    "dd/dc\n",
    "-----------\n",
    "e = a * b \n",
    "\n",
    "de / da = -3\n",
    "de / db = 2\n",
    "\n",
    "dL/de = dL/de * de/da\n",
    "-6\n",
    "\n"
   ]
  },
  {
   "cell_type": "code",
   "execution_count": 87,
   "id": "f29d57dc",
   "metadata": {},
   "outputs": [],
   "source": [
    "d.grad = 4.0\n",
    "f.grad = -2.0\n",
    "e.grad = -2.0\n",
    "c.grad = -2.0\n",
    "b.grad = -4.0\n",
    "a.grad = 6.0"
   ]
  },
  {
   "cell_type": "code",
   "execution_count": 80,
   "id": "8ddcb64d",
   "metadata": {},
   "outputs": [
    {
     "name": "stdout",
     "output_type": "stream",
     "text": [
      "-1.9999999999953388\n"
     ]
    }
   ],
   "source": [
    "def lol():\n",
    "    h = 0.0001\n",
    "    \n",
    "    a = Value(2.0, label='a')\n",
    "    b = Value(-3.0, label='b')\n",
    "    c = Value(10.0, label='c')\n",
    "    e = a * b; e.label = 'e'\n",
    "    d = e + c; d.label = 'd'\n",
    "    f = Value(-2.0, label='f')\n",
    "    L = d*f; L.label='L'\n",
    "    L1 = L.data\n",
    "    \n",
    "    a = Value(2.0, label='a')\n",
    "    b = Value(-3.0, label='b')\n",
    "    c = Value(10.0, label='c')\n",
    "    e = a * b; e.label = 'e'\n",
    "    d = e + c; d.label = 'd'\n",
    "    d.data += h\n",
    "    f = Value(-2.0, label='f')\n",
    "    L = d*f; L.label='L'\n",
    "    L2 = L.data\n",
    "    \n",
    "    print((L2 - L1)/h)\n",
    "    \n",
    "lol()"
   ]
  },
  {
   "cell_type": "code",
   "execution_count": null,
   "id": "6a315428",
   "metadata": {},
   "outputs": [],
   "source": []
  }
 ],
 "metadata": {
  "kernelspec": {
   "display_name": "Python 3 (ipykernel)",
   "language": "python",
   "name": "python3"
  },
  "language_info": {
   "codemirror_mode": {
    "name": "ipython",
    "version": 3
   },
   "file_extension": ".py",
   "mimetype": "text/x-python",
   "name": "python",
   "nbconvert_exporter": "python",
   "pygments_lexer": "ipython3",
   "version": "3.9.7"
  }
 },
 "nbformat": 4,
 "nbformat_minor": 5
}
