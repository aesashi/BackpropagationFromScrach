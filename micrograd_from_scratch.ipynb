{
 "cells": [
  {
   "cell_type": "code",
   "execution_count": 1,
   "id": "81af904d",
   "metadata": {},
   "outputs": [],
   "source": [
    "import math\n",
    "import numpy as np\n",
    "import matplotlib.pyplot as plt\n",
    "%matplotlib inline"
   ]
  },
  {
   "cell_type": "raw",
   "id": "fd9df38d",
   "metadata": {},
   "source": [
    "Understanding of Declivative"
   ]
  },
  {
   "cell_type": "code",
   "execution_count": 2,
   "id": "4b11d267",
   "metadata": {},
   "outputs": [],
   "source": [
    "def f(x): #Rrandom quadratic palabola equation\n",
    "    return 3*x**2 - 4*x + 5"
   ]
  },
  {
   "cell_type": "code",
   "execution_count": 3,
   "id": "d02ed59f",
   "metadata": {},
   "outputs": [
    {
     "data": {
      "text/plain": [
       "20.0"
      ]
     },
     "execution_count": 3,
     "metadata": {},
     "output_type": "execute_result"
    }
   ],
   "source": [
    "f(3.0)"
   ]
  },
  {
   "cell_type": "code",
   "execution_count": 6,
   "id": "8b59a3d6",
   "metadata": {},
   "outputs": [
    {
     "data": {
      "text/plain": [
       "[<matplotlib.lines.Line2D at 0x7f85a2d5a730>]"
      ]
     },
     "execution_count": 6,
     "metadata": {},
     "output_type": "execute_result"
    },
    {
     "data": {
      "image/png": "[encoded data removed]",
      "text/plain": [
       "<Figure size 432x288 with 1 Axes>"
      ]
     },
     "metadata": {
      "needs_background": "light"
     },
     "output_type": "display_data"
    }
   ],
   "source": [
    "xs = np.arange(-5, 5, 0.25)\n",
    "ys = f(xs)\n",
    "plt.plot(ys)"
   ]
  },
  {
   "cell_type": "code",
   "execution_count": 17,
   "id": "5c0b2628",
   "metadata": {},
   "outputs": [
    {
     "data": {
      "text/plain": [
       "0.0"
      ]
     },
     "execution_count": 17,
     "metadata": {},
     "output_type": "execute_result"
    }
   ],
   "source": [
    "h = 0.0000000001 #the step size for normalization\n",
    "x = 2/3 #x = 2/3 will be derivative of 0\n",
    "(f(x+h)-f(x))/h"
   ]
  },
  {
   "cell_type": "markdown",
   "id": "5dc28c23",
   "metadata": {},
   "source": [
    "Some complex example "
   ]
  },
  {
   "cell_type": "code",
   "execution_count": 18,
   "id": "24ffaca9",
   "metadata": {},
   "outputs": [
    {
     "name": "stdout",
     "output_type": "stream",
     "text": [
      "4.0\n"
     ]
    }
   ],
   "source": [
    "#let get more complex\n",
    "a = 2.0\n",
    "b = -3.0\n",
    "c = 10.0\n",
    "d = a*b+c\n",
    "print(d)"
   ]
  },
  {
   "cell_type": "code",
   "execution_count": 30,
   "id": "8990be52",
   "metadata": {},
   "outputs": [
    {
     "name": "stdout",
     "output_type": "stream",
     "text": [
      "d1 4.0\n",
      "d2 4.0002\n",
      "slope 2.0000000000042206\n"
     ]
    }
   ],
   "source": [
    "h = 0.0001\n",
    "\n",
    "#inputs \n",
    "a = 2.0\n",
    "b = -3.0\n",
    "c = 10.0\n",
    "\n",
    "# k = a * (-3)\n",
    "# l = a * (-3+.001)\n",
    "\n",
    "d1 = a*b + c\n",
    "b += h\n",
    "d2 = a*b +c\n",
    "# print(k+10, l+10)\n",
    "print('d1', d1)\n",
    "print('d2', d2)\n",
    "print('slope', (d2-d1)/h)\n"
   ]
  },
  {
   "cell_type": "code",
   "execution_count": null,
   "id": "82859053",
   "metadata": {},
   "outputs": [],
   "source": []
  }
 ],
 "metadata": {
  "kernelspec": {
   "display_name": "Python 3 (ipykernel)",
   "language": "python",
   "name": "python3"
  },
  "language_info": {
   "codemirror_mode": {
    "name": "ipython",
    "version": 3
   },
   "file_extension": ".py",
   "mimetype": "text/x-python",
   "name": "python",
   "nbconvert_exporter": "python",
   "pygments_lexer": "ipython3",
   "version": "3.9.7"
  }
 },
 "nbformat": 4,
 "nbformat_minor": 5
}
